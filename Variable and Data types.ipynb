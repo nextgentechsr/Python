{
 "cells": [
  {
   "cell_type": "markdown",
   "metadata": {},
   "source": [
    "## Variables and Data Types in Python"
   ]
  },
  {
   "cell_type": "markdown",
   "metadata": {},
   "source": [
    "#### Basic Print statement"
   ]
  },
  {
   "cell_type": "code",
   "execution_count": 1,
   "metadata": {},
   "outputs": [
    {
     "name": "stdout",
     "output_type": "stream",
     "text": [
      "Welcome to Python\n",
      "this is the first notebook!!!\n",
      "hello world !!!\n"
     ]
    }
   ],
   "source": [
    "print(\"Welcome to Python\")\n",
    "print(\"this is the first notebook!!!\")\n",
    "print(\"hello world !!!\")"
   ]
  },
  {
   "cell_type": "markdown",
   "metadata": {},
   "source": [
    "#### Variable Declarations: "
   ]
  },
  {
   "cell_type": "code",
   "execution_count": 4,
   "metadata": {},
   "outputs": [],
   "source": [
    "emp_name = \"John\"\n",
    "emp_id = 123\n",
    "designation = 'Engineer'\n",
    "dept = 'IT'\n",
    "salary = 50000\n",
    "overtime = 20000\n",
    "\n",
    "# Multiple assignment\n",
    "\n",
    "x = y = z = 100 \n",
    "\n",
    "p,q,r = 100, 200, \"John\""
   ]
  },
  {
   "cell_type": "code",
   "execution_count": null,
   "metadata": {},
   "outputs": [],
   "source": []
  },
  {
   "cell_type": "code",
   "execution_count": 5,
   "metadata": {},
   "outputs": [
    {
     "name": "stdout",
     "output_type": "stream",
     "text": [
      "John\n",
      "123\n",
      "Engineer\n"
     ]
    }
   ],
   "source": [
    "print(emp_name) \n",
    "print(emp_id)\n",
    "print(designation) "
   ]
  },
  {
   "cell_type": "code",
   "execution_count": 6,
   "metadata": {},
   "outputs": [
    {
     "name": "stdout",
     "output_type": "stream",
     "text": [
      "100\n",
      "100\n",
      "100\n"
     ]
    }
   ],
   "source": [
    "print(x) \n",
    "print(y)\n",
    "print(z) "
   ]
  },
  {
   "cell_type": "code",
   "execution_count": 7,
   "metadata": {},
   "outputs": [
    {
     "name": "stdout",
     "output_type": "stream",
     "text": [
      "100\n",
      "200\n",
      "John\n"
     ]
    }
   ],
   "source": [
    "print(p) \n",
    "print(q)\n",
    "print(r) "
   ]
  },
  {
   "cell_type": "markdown",
   "metadata": {},
   "source": [
    "#### Print Statement in Python"
   ]
  },
  {
   "cell_type": "code",
   "execution_count": 8,
   "metadata": {},
   "outputs": [
    {
     "name": "stdout",
     "output_type": "stream",
     "text": [
      "Employee Name: John\n",
      "Employee ID: 123\n",
      "Employee Designation: Engineer\n",
      "Employee Department: IT\n",
      "Employee Name: 50000\n",
      "\n",
      "Total Salary of John per month: 70000\n"
     ]
    }
   ],
   "source": [
    "print(\"Employee Name: %s\" % emp_name)\n",
    "print(\"Employee ID: %d\" % emp_id)\n",
    "print(\"Employee Designation: %s\" % designation)\n",
    "print(\"Employee Department: %s\" % dept)\n",
    "print(\"Employee Name: %d\" % salary)\n",
    "\n",
    "print(\"\\nTotal Salary of John per month: %d\" %(salary + overtime))  #arithmetic operations"
   ]
  },
  {
   "cell_type": "markdown",
   "metadata": {},
   "source": [
    "#### Formatting the print statements: "
   ]
  },
  {
   "cell_type": "code",
   "execution_count": 9,
   "metadata": {},
   "outputs": [
    {
     "name": "stdout",
     "output_type": "stream",
     "text": [
      "\n",
      "John is an Engineer and works in IT department and his Salary is 50000\n"
     ]
    }
   ],
   "source": [
    "print(\"\\n%s is an %s and works in %s department and his Salary is %d\" %(emp_name, designation, dept, salary))"
   ]
  },
  {
   "cell_type": "markdown",
   "metadata": {},
   "source": [
    "### Global Functions"
   ]
  },
  {
   "cell_type": "markdown",
   "metadata": {},
   "source": [
    "#### Create a variable outside of a function, and use it inside the function"
   ]
  },
  {
   "cell_type": "code",
   "execution_count": 10,
   "metadata": {},
   "outputs": [
    {
     "name": "stdout",
     "output_type": "stream",
     "text": [
      "Employee Name: John\n"
     ]
    }
   ],
   "source": [
    "emp_name = \"John\"\n",
    "\n",
    "def emp():\n",
    "  print(\"Employee Name: \" + emp_name)\n",
    "\n",
    "emp()"
   ]
  },
  {
   "cell_type": "markdown",
   "metadata": {},
   "source": [
    "#### Create a variable inside a function, with the same name as the global variable"
   ]
  },
  {
   "cell_type": "code",
   "execution_count": 11,
   "metadata": {},
   "outputs": [
    {
     "name": "stdout",
     "output_type": "stream",
     "text": [
      "Employee Name: Peter\n",
      "Employee Name:John\n"
     ]
    }
   ],
   "source": [
    "emp_name = \"John\"\n",
    "\n",
    "def emp():\n",
    "  emp_name = \"Peter\"\n",
    "  print(\"Employee Name: \" + emp_name)\n",
    "\n",
    "emp()\n",
    "\n",
    "print(\"Employee Name:\" + emp_name)"
   ]
  },
  {
   "cell_type": "markdown",
   "metadata": {},
   "source": [
    "#### Using global keyword, you can create a variable inside and function, but that variable belongs to global scope"
   ]
  },
  {
   "cell_type": "code",
   "execution_count": 12,
   "metadata": {},
   "outputs": [
    {
     "name": "stdout",
     "output_type": "stream",
     "text": [
      "Employee Name: John\n"
     ]
    }
   ],
   "source": [
    "def emp():\n",
    "  global emp_name\n",
    "  emp_name = \"John\"\n",
    "\n",
    "emp()\n",
    "\n",
    "print(\"Employee Name: \" + emp_name)"
   ]
  },
  {
   "cell_type": "markdown",
   "metadata": {},
   "source": [
    "## Standard Data Types"
   ]
  },
  {
   "cell_type": "markdown",
   "metadata": {},
   "source": [
    "#### Python has five standard data types −\n"
   ]
  },
  {
   "cell_type": "raw",
   "metadata": {},
   "source": [
    "Numbers\n",
    "String\n",
    "List\n",
    "Tuple\n",
    "Dictionary\n"
   ]
  },
  {
   "cell_type": "markdown",
   "metadata": {},
   "source": [
    "#### Numbers: "
   ]
  },
  {
   "cell_type": "raw",
   "metadata": {},
   "source": [
    "Python supports four different numerical types −\n",
    "\n",
    "int (signed integers) - \n",
    "long (long integers, they can also be represented in octal and hexadecimal) - 96898861L\n",
    "float (floating point real values) - 2.3\n",
    "complex (complex numbers) - 3.14j"
   ]
  },
  {
   "cell_type": "code",
   "execution_count": 13,
   "metadata": {},
   "outputs": [],
   "source": [
    "x = 3         # integer\n",
    "y = 0.5       # float\n",
    "z = 3.14j     # complex \n",
    "a = 96898861  # Long"
   ]
  },
  {
   "cell_type": "code",
   "execution_count": 14,
   "metadata": {},
   "outputs": [
    {
     "name": "stdout",
     "output_type": "stream",
     "text": [
      "3\n",
      "0.5\n",
      "3.14j\n",
      "96898861\n"
     ]
    }
   ],
   "source": [
    "print(x)\n",
    "print(y)\n",
    "print(z)\n",
    "print(a)"
   ]
  },
  {
   "cell_type": "markdown",
   "metadata": {},
   "source": [
    "#### String - str"
   ]
  },
  {
   "cell_type": "code",
   "execution_count": 15,
   "metadata": {},
   "outputs": [
    {
     "name": "stdout",
     "output_type": "stream",
     "text": [
      "Welcome to python programming\n",
      "W\n",
      "com\n",
      "come to python programming\n",
      "Welcome to python programmingWelcome to python programming\n",
      "Welcome to python programming with SR\n"
     ]
    }
   ],
   "source": [
    "abc = \"Welcome to python programming\"\n",
    "\n",
    "print(abc)              # Prints complete string\n",
    "print(abc[0])           # Prints first character of the string - its start from 0 index\n",
    "print(abc[3:6])         # Prints characters starting from 4rd to 6th\n",
    "print(abc[3:])          # Prints string starting from 4rd character\n",
    "print(abc * 2)          # Prints string two times\n",
    "print(abc + \" with SR\") # Prints concatenated string"
   ]
  },
  {
   "cell_type": "code",
   "execution_count": 16,
   "metadata": {},
   "outputs": [
    {
     "name": "stdout",
     "output_type": "stream",
     "text": [
      "['Welcome', 'to', 'python programming']\n"
     ]
    }
   ],
   "source": [
    "abc = \"Welcome,to,python programming\"\n",
    "print(abc.split(\",\"))                   # split function"
   ]
  },
  {
   "cell_type": "code",
   "execution_count": 17,
   "metadata": {},
   "outputs": [
    {
     "name": "stdout",
     "output_type": "stream",
     "text": [
      "PythonProgramming\n"
     ]
    }
   ],
   "source": [
    "str_1 = \"Python\"\n",
    "str_2 = \"Programming\"\n",
    "final_str = str_1 + str_2\n",
    "print(final_str)"
   ]
  },
  {
   "cell_type": "code",
   "execution_count": 18,
   "metadata": {},
   "outputs": [
    {
     "name": "stdout",
     "output_type": "stream",
     "text": [
      "Python Programming\n"
     ]
    }
   ],
   "source": [
    "str_1 = \"Python\"\n",
    "str_2 = \"Programming\"\n",
    "final_str = str_1 +  \" \" + str_2\n",
    "print(final_str)"
   ]
  },
  {
   "cell_type": "markdown",
   "metadata": {},
   "source": [
    "#### String Methods "
   ]
  },
  {
   "cell_type": "code",
   "execution_count": 19,
   "metadata": {},
   "outputs": [
    {
     "name": "stdout",
     "output_type": "stream",
     "text": [
      "Python\n"
     ]
    }
   ],
   "source": [
    "# capitalize() - Converts the first character to upper case\n",
    "str_1 = \"python\"\n",
    "print(str_1.capitalize())"
   ]
  },
  {
   "cell_type": "code",
   "execution_count": 20,
   "metadata": {},
   "outputs": [
    {
     "name": "stdout",
     "output_type": "stream",
     "text": [
      "PYTHON\n"
     ]
    }
   ],
   "source": [
    "# upper() - Convert string to upper case. \n",
    "str_1 = \"python\"\n",
    "print(str_1.upper())"
   ]
  },
  {
   "cell_type": "code",
   "execution_count": 21,
   "metadata": {},
   "outputs": [
    {
     "name": "stdout",
     "output_type": "stream",
     "text": [
      "python\n"
     ]
    }
   ],
   "source": [
    "# lower() - Convert string to upper case. \n",
    "str_1 = \"PyThON\"\n",
    "print(str_1.lower())"
   ]
  },
  {
   "cell_type": "code",
   "execution_count": 22,
   "metadata": {},
   "outputs": [
    {
     "name": "stdout",
     "output_type": "stream",
     "text": [
      "I like Python programming\n"
     ]
    }
   ],
   "source": [
    "# replace() - replace the string\n",
    "str_1 = \"I like C programming\"\n",
    "str_2 = str_1.replace(\"C\", \"Python\")\n",
    "print(str_2)"
   ]
  },
  {
   "cell_type": "code",
   "execution_count": 24,
   "metadata": {},
   "outputs": [
    {
     "name": "stdout",
     "output_type": "stream",
     "text": [
      "False\n"
     ]
    }
   ],
   "source": [
    "# startswith() \n",
    "str_1 = \"I like C programming\"\n",
    "str_2 = str_1.startswith(\"w\")\n",
    "print(str_2)"
   ]
  },
  {
   "cell_type": "markdown",
   "metadata": {},
   "source": [
    "#### Lists"
   ]
  },
  {
   "cell_type": "code",
   "execution_count": 25,
   "metadata": {},
   "outputs": [
    {
     "name": "stdout",
     "output_type": "stream",
     "text": [
      "['John', 123, 0.5, 'Peter', 56.9, 'Mathew', 0.006]\n",
      "John\n",
      "[123, 0.5]\n",
      "[0.5, 'Peter', 56.9, 'Mathew', 0.006]\n",
      "[420, 'Michael', 420, 'Michael']\n",
      "['John', 123, 0.5, 'Peter', 56.9, 'Mathew', 0.006, 420, 'Michael']\n"
     ]
    }
   ],
   "source": [
    "list_1 = [ 'John', 123 , 0.5, 'Peter', 56.9, \"Mathew\", 0.006 ]\n",
    "list_2 = [420, 'Michael']\n",
    "\n",
    "print(list_1)           \n",
    "print(list_1[0])        \n",
    "print(list_1[1:3])     # 2nd till 3rd \n",
    "print(list_1[2:])      # from 3rd element\n",
    "print(list_2 * 2)      \n",
    "print(list_1 + list_2) # concatenate two lists"
   ]
  },
  {
   "cell_type": "markdown",
   "metadata": {},
   "source": [
    "#### Tuple"
   ]
  },
  {
   "cell_type": "code",
   "execution_count": 36,
   "metadata": {},
   "outputs": [
    {
     "name": "stdout",
     "output_type": "stream",
     "text": [
      "('John', 123, 0.5, 'Peter', 56.9, 'Mathew', 0.006)\n",
      "John\n",
      "(123, 0.5)\n",
      "(0.5, 'Peter', 56.9, 'Mathew', 0.006)\n",
      "(420, 'Michael', 420, 'Michael')\n",
      "('John', 123, 0.5, 'Peter', 56.9, 'Mathew', 0.006, 420, 'Michael')\n"
     ]
    }
   ],
   "source": [
    "tuple_1 = ( 'John', 123 , 0.5, 'Peter', 56.9, \"Mathew\", 0.006 )\n",
    "tuple_2 = (420, 'Michael')\n",
    "\n",
    "print(tuple_1)          \n",
    "print(tuple_1[0])       \n",
    "print(tuple_1[1:3])     # 2nd till 3rd \n",
    "print(tuple_1[2:])      # 3rd element\n",
    "print(tuple_2 * 2)  \n",
    "print(tuple_1 + tuple_2) "
   ]
  },
  {
   "cell_type": "code",
   "execution_count": 34,
   "metadata": {},
   "outputs": [
    {
     "data": {
      "text/plain": [
       "tuple"
      ]
     },
     "execution_count": 34,
     "metadata": {},
     "output_type": "execute_result"
    }
   ],
   "source": [
    "type(tuple_1)"
   ]
  },
  {
   "cell_type": "markdown",
   "metadata": {},
   "source": [
    "#### Dictionary"
   ]
  },
  {
   "cell_type": "code",
   "execution_count": 27,
   "metadata": {},
   "outputs": [
    {
     "name": "stdout",
     "output_type": "stream",
     "text": [
      "This is one\n",
      "This is two\n",
      "{'emp_name': 'Peter', 'emp_id': 1234, 'emp_dept': 'Finance'}\n",
      "dict_keys(['emp_name', 'emp_id', 'emp_dept'])\n",
      "dict_values(['Peter', 1234, 'Finance'])\n"
     ]
    }
   ],
   "source": [
    "dictionary_1 = {}\n",
    "dictionary_1['one'] = \"This is one\"\n",
    "\n",
    "dictionary_1[2]     = \"This is two\"\n",
    "\n",
    "new_dict = {'emp_name': 'Peter','emp_id':1234, 'emp_dept': 'Finance'}\n",
    "\n",
    "\n",
    "print(dictionary_1['one'])        \n",
    "print(dictionary_1[2])            \n",
    "print(new_dict)                   \n",
    "print(new_dict.keys())             \n",
    "print(new_dict.values())          "
   ]
  },
  {
   "cell_type": "code",
   "execution_count": 28,
   "metadata": {},
   "outputs": [
    {
     "name": "stdout",
     "output_type": "stream",
     "text": [
      "3\n"
     ]
    }
   ],
   "source": [
    "print(len(new_dict))              #len - length of the dictionary"
   ]
  },
  {
   "cell_type": "code",
   "execution_count": null,
   "metadata": {},
   "outputs": [],
   "source": []
  }
 ],
 "metadata": {
  "kernelspec": {
   "display_name": "Python 3",
   "language": "python",
   "name": "python3"
  },
  "language_info": {
   "codemirror_mode": {
    "name": "ipython",
    "version": 3
   },
   "file_extension": ".py",
   "mimetype": "text/x-python",
   "name": "python",
   "nbconvert_exporter": "python",
   "pygments_lexer": "ipython3",
   "version": "3.8.3"
  }
 },
 "nbformat": 4,
 "nbformat_minor": 4
}
